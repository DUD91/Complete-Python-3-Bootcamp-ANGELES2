{
 "cells": [
  {
   "cell_type": "markdown",
   "metadata": {},
   "source": [
    "# Guessing Game Challenge\n",
    "\n",
    "Let's use `while` loops to create a guessing game.\n",
    "\n",
    "The Challenge:\n",
    "\n",
    "Write a program that picks a random integer from 1 to 100, and has players guess the number. The rules are:\n",
    "\n",
    "1. If a player's guess is less than 1 or greater than 100, say \"OUT OF BOUNDS\"\n",
    "2. On a player's first turn, if their guess is\n",
    " * within 10 of the number, return \"WARM!\"\n",
    " * further than 10 away from the number, return \"COLD!\"\n",
    "3. On all subsequent turns, if a guess is \n",
    " * closer to the number than the previous guess return \"WARMER!\"\n",
    " * farther from the number than the previous guess, return \"COLDER!\"\n",
    "4. When the player's guess equals the number, tell them they've guessed correctly *and* how many guesses it took!\n",
    "\n",
    "You can try this from scratch, or follow the steps outlined below. A separate Solution notebook has been provided. Good luck!\n"
   ]
  },
  {
   "cell_type": "markdown",
   "metadata": {},
   "source": [
    "#### First, pick a random integer from 1 to 100 using the random module and assign it to a variable\n",
    "\n",
    "Note: `random.randint(a,b)` returns a random integer in range `[a, b]`, including both end points."
   ]
  },
  {
   "cell_type": "code",
   "execution_count": 40,
   "metadata": {},
   "outputs": [],
   "source": [
    "import random\n",
    "\n",
    "num = random.randint(0,101)\n",
    "    "
   ]
  },
  {
   "cell_type": "code",
   "execution_count": 41,
   "metadata": {},
   "outputs": [
    {
     "name": "stdout",
     "output_type": "stream",
     "text": [
      "58\n"
     ]
    }
   ],
   "source": [
    "print(num)"
   ]
  },
  {
   "cell_type": "code",
   "execution_count": null,
   "metadata": {},
   "outputs": [],
   "source": []
  },
  {
   "cell_type": "code",
   "execution_count": null,
   "metadata": {},
   "outputs": [],
   "source": []
  },
  {
   "cell_type": "code",
   "execution_count": null,
   "metadata": {},
   "outputs": [],
   "source": []
  },
  {
   "cell_type": "markdown",
   "metadata": {},
   "source": [
    "#### Next, print an introduction to the game and explain the rules"
   ]
  },
  {
   "cell_type": "code",
   "execution_count": 32,
   "metadata": {},
   "outputs": [
    {
     "name": "stdout",
     "output_type": "stream",
     "text": [
      "If a player's guess is less than 1 or greater than 100, say \"OUT OF BOUNDS\"  \n",
      "\n",
      "On a player's first turn, if their guess is within 10 of the number, return \"WARM!\" further than 10 away from the number, return \"COLD!\" \n",
      "\n",
      "On all subsequent turns, if a guess is closer to the number than the previous guess return \"WARMER!\" \n",
      "\n",
      "farther from the number than the previous guess, return \"COLDER!\" \n",
      "\n",
      "When the player's guess equals the number, tell them they've guessed correctly and how many guesses it took!\n",
      "\n"
     ]
    }
   ],
   "source": [
    "print(\"\"\"If a player\\'s guess is less than 1 or greater than 100, say \\\"OUT OF BOUNDS\\\"  \\n\n",
    "On a player\\'s first turn, if their guess is within 10 of the number, return \\\"WARM!\\\" further than 10 away from the number, return \\\"COLD!\\\" \\n\n",
    "On all subsequent turns, if a guess is closer to the number than the previous guess return \\\"WARMER!\\\" \\n\n",
    "farther from the number than the previous guess, return \\\"COLDER!\\\" \\n\n",
    "When the player's guess equals the number, tell them they've guessed correctly and how many guesses it took!\n",
    "\"\"\")"
   ]
  },
  {
   "cell_type": "code",
   "execution_count": null,
   "metadata": {},
   "outputs": [],
   "source": []
  },
  {
   "cell_type": "code",
   "execution_count": null,
   "metadata": {},
   "outputs": [],
   "source": []
  },
  {
   "cell_type": "code",
   "execution_count": null,
   "metadata": {},
   "outputs": [],
   "source": []
  },
  {
   "cell_type": "code",
   "execution_count": null,
   "metadata": {},
   "outputs": [],
   "source": []
  },
  {
   "cell_type": "code",
   "execution_count": null,
   "metadata": {},
   "outputs": [],
   "source": []
  },
  {
   "cell_type": "code",
   "execution_count": null,
   "metadata": {},
   "outputs": [],
   "source": []
  },
  {
   "cell_type": "markdown",
   "metadata": {},
   "source": [
    "#### Create a list to store guesses\n",
    "\n",
    "Hint: zero is a good placeholder value. It's useful because it evaluates to \"False\""
   ]
  },
  {
   "cell_type": "code",
   "execution_count": 42,
   "metadata": {},
   "outputs": [],
   "source": [
    "guess_list = 0"
   ]
  },
  {
   "cell_type": "markdown",
   "metadata": {},
   "source": [
    "#### Write a `while` loop that asks for a valid guess. Test it a few times to make sure it works."
   ]
  },
  {
   "cell_type": "code",
   "execution_count": 43,
   "metadata": {},
   "outputs": [
    {
     "name": "stdout",
     "output_type": "stream",
     "text": [
      "Guess a number!25\n",
      "You won!\n"
     ]
    }
   ],
   "source": [
    "guess = int(input(\"Guess a number!\"))\n",
    "while guess >= 0 and guess <= 101:\n",
    "    guess = input(\"Guess a number!\")\n",
    "    pass\n",
    "else:\n",
    "    print(\"You won!\")"
   ]
  },
  {
   "cell_type": "code",
   "execution_count": null,
   "metadata": {},
   "outputs": [],
   "source": [
    "import random\n",
    "num = int(random.randint(0,101))\n",
    "print(num)\n",
    "guess_list = int(0)\n",
    "guess = int(input(\"Guess a number! \"))\n",
    "while guess != num:\n",
    "    guess = int(input(\"Guess a number! \"))\n",
    "if guess == num:\n",
    "    print(\"You've won!\") \n",
    "\n",
    "    '''guess >= 0 and guess <= 101:\n",
    "    guess = input(\"Guess again! \")\n",
    "    guess_list = guess_list + 1\n",
    "    pass\n",
    "else:\n",
    "    print(\"You won!\")'''"
   ]
  },
  {
   "cell_type": "markdown",
   "metadata": {},
   "source": [
    " "
   ]
  },
  {
   "cell_type": "code",
   "execution_count": null,
   "metadata": {},
   "outputs": [],
   "source": []
  },
  {
   "cell_type": "code",
   "execution_count": null,
   "metadata": {},
   "outputs": [],
   "source": [
    "import random\n",
    "print(\"Here are the rules: /nGuess a number between 1 and 100. We'll give you a hint if you need one.\")\n",
    "num = int(random.randint(0,101))\n",
    "print(num)\n",
    "guess_list = int(1)\n",
    "guess = int(input(\"Guess a number! \"))\n",
    "while guess != num:\n",
    "    guess_list = guess_list + 1\n",
    "    if guess <= 0:\n",
    "        print(\"Out of Bounds. Try again.\")\n",
    "    if guess > 100:\n",
    "        print(\"Out of Bounds. Try again.\")\n",
    "    guess = int(input(\"Guess again! \"))\n",
    "if guess == num:\n",
    "    print(\"You've won! It took you %d tries, but you got it. \" % (guess_list))"
   ]
  },
  {
   "cell_type": "markdown",
   "metadata": {},
   "source": [
    "## With help from @stullis on Python Forum, here is my next attempt:"
   ]
  },
  {
   "cell_type": "code",
   "execution_count": null,
   "metadata": {},
   "outputs": [
    {
     "name": "stdout",
     "output_type": "stream",
     "text": [
      "Here are the rules: \n",
      "'Guess a number between 1 and 100.' \n",
      "'We'll give you a hint if you need one.'\n",
      "84\n"
     ]
    }
   ],
   "source": [
    "import random\n",
    "print(\"Here are the rules: \\n'Guess a number between 1 and 100.' \\n'We'll give you a hint if you need one.'\")\n",
    "num = int(random.randint(1,100))\n",
    "print(num)\n",
    "guess_count = int(2)\n",
    "guess = int(input(\"Guess a number! \"))\n",
    "while guess != num:\n",
    "    guess_count = guess_count + 1\n",
    "    if guess <= 0:\n",
    "        print(\"Out of Bounds. Try again.\")\n",
    "    if guess > 100:\n",
    "        print(\"Out of Bounds. Try again.\")\n",
    "    guess = int(input(\"Guess again: \"))\n",
    "if guess == num:\n",
    "    print(\"You've won! It took you %d tries, but you got it. \" % (guess_count))"
   ]
  },
  {
   "cell_type": "code",
   "execution_count": null,
   "metadata": {},
   "outputs": [
    {
     "name": "stdout",
     "output_type": "stream",
     "text": [
      "Here are the rules: \n",
      "'Guess a number between 1 and 100.' \n",
      "'We'll give you a hint if you need one.'\n",
      "18\n",
      "Guess a number! 17\n",
      "WARM\n",
      "Guess again: 22\n",
      "WARM\n"
     ]
    }
   ],
   "source": [
    "import random\n",
    "print(\"Here are the rules: \\n'Guess a number between 1 and 100.' \\n'We'll give you a hint if you need one.'\")\n",
    "num = int(random.randint(1,100))\n",
    "print(num)\n",
    "guess_count = int(1)\n",
    "guess = int(input(\"Guess a number! \"))\n",
    "orbit_greater = num + 10\n",
    "orbit_less = num - 10\n",
    "while guess != num:\n",
    "    guess_count = guess_count + 1    \n",
    "    if guess > num < orbit_greater:\n",
    "        print(\"WARM\")\n",
    "    if guess < num > orbit_less:\n",
    "        print(\"WARM\")    \n",
    "    if guess <= 0:\n",
    "        print(\"Out of Bounds. Try again.\")\n",
    "    if guess > 100:\n",
    "        print(\"Out of Bounds. Try again.\")\n",
    "    guess = int(input(\"Guess again: \"))\n",
    "if guess == num:\n",
    "    print(\"You've won! It took you %d tries, but you got it. \" % (guess_count))"
   ]
  },
  {
   "cell_type": "code",
   "execution_count": null,
   "metadata": {},
   "outputs": [],
   "source": [
    "orbit_greater == num + 10\n",
    "orbit_less == num - 10\n",
    "\n",
    "\"\"\"if guess is between num or orbit_greater:\n",
    "    print(\"WARM\")\n",
    "if guess is between num or orbit_greater:\n",
    "    print(\"WARM\")\"\"\"\n",
    "    \n",
    "if guess > num < orbit_greater:\n",
    "    print(\"WARM\")\n",
    "if guess >  num < orbit_less:\n",
    "    print(\"WARM\")"
   ]
  },
  {
   "cell_type": "code",
   "execution_count": null,
   "metadata": {},
   "outputs": [],
   "source": []
  },
  {
   "cell_type": "code",
   "execution_count": null,
   "metadata": {},
   "outputs": [],
   "source": []
  },
  {
   "cell_type": "code",
   "execution_count": null,
   "metadata": {},
   "outputs": [],
   "source": []
  },
  {
   "cell_type": "code",
   "execution_count": null,
   "metadata": {},
   "outputs": [],
   "source": []
  },
  {
   "cell_type": "markdown",
   "metadata": {},
   "source": [
    "#### Write a `while` loop that compares the player's guess to our number. If the player guesses correctly, break from the loop. Otherwise, tell the player if they're warmer or colder, and continue asking for guesses.\n",
    "\n",
    "Some hints:\n",
    "* it may help to sketch out all possible combinations on paper first!\n",
    "* you can use the `abs()` function to find the positive difference between two numbers\n",
    "* if you append all new guesses to the list, then the previous guess is given as `guesses[-2]`"
   ]
  },
  {
   "cell_type": "code",
   "execution_count": null,
   "metadata": {},
   "outputs": [],
   "source": [
    "while True:\n",
    "\n",
    "    # we can copy the code from above to take an input\n",
    "\n",
    "    pass"
   ]
  },
  {
   "cell_type": "markdown",
   "metadata": {},
   "source": [
    "That's it! You've just programmed your first game!\n",
    "\n",
    "In the next section we'll learn how to turn some of these repetitive actions into *functions* that can be called whenever we need them."
   ]
  },
  {
   "cell_type": "markdown",
   "metadata": {},
   "source": [
    "### Good Job!"
   ]
  }
 ],
 "metadata": {
  "kernelspec": {
   "display_name": "Python 3",
   "language": "python",
   "name": "python3"
  },
  "language_info": {
   "codemirror_mode": {
    "name": "ipython",
    "version": 3
   },
   "file_extension": ".py",
   "mimetype": "text/x-python",
   "name": "python",
   "nbconvert_exporter": "python",
   "pygments_lexer": "ipython3",
   "version": "3.7.1"
  }
 },
 "nbformat": 4,
 "nbformat_minor": 2
}
